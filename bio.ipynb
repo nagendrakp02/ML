{
 "cells": [
  {
   "cell_type": "code",
   "execution_count": null,
   "metadata": {},
   "outputs": [],
   "source": [
    "from subprocess import check_output\n",
    "print(check_output([\"ls\", \"../input\"]).decode(\"utf8\"))"
   ]
  },
  {
   "cell_type": "code",
   "execution_count": null,
   "metadata": {},
   "outputs": [],
   "source": [
    "import os\n",
    "for dirname, _, filenames in os.walk('/kaggle/input'):\n",
    "    for filename in filenames:\n",
    "        print(os.path.join(dirname, filename))"
   ]
  },
  {
   "cell_type": "code",
   "execution_count": null,
   "metadata": {},
   "outputs": [],
   "source": [
    "import wfdb\n",
    "from wfdb import processing\n",
    "import os\n",
    "import numpy as np\n",
    "import pandas as pd\n",
    "import pickle\n",
    "import matplotlib.pyplot as plt\n",
    "%matplotlib inline\n",
    "import scipy\n",
    "import shutil\n",
    "from IPython.display import display \n"
   ]
  },
  {
   "cell_type": "code",
   "execution_count": null,
   "metadata": {},
   "outputs": [],
   "source": [
    "dir1 = '/kaggle/input/bidmc-congestive-heart-failure/files/'\n",
    "dir2 = '/kaggle/input/mitbih-normal-sinus-rhythm-database/mit-bih-normal-sinus-rhythm-database-1.0.0/'\n",
    "df1, df2 = list(), list()\n",
    "\n",
    "# all the header files from chf dataset\n",
    "for i in os.listdir(dir1):\n",
    "    if i.endswith(\".hea\"):\n",
    "        df1.append(i)\n",
    "# all the annotations from normal dataset\n",
    "for i in os.listdir(dir2):\n",
    "    if i.endswith(\".atr\"):\n",
    "        df2.append(i)        \n",
    "\n",
    "df1, df2 = pd.DataFrame(df1), pd.DataFrame(df2) \n",
    "df_1 = pd.read_csv(\"/kaggle/input/bidmc-congestive-heart-failure/files/RECORDS\", header=None)\n",
    "df_2 = pd.read_csv(\"/kaggle/input/mitbih-normal-sinus-rhythm-database/mit-bih-normal-sinus-rhythm-database-1.0.0/RECORDS\", header=None)"
   ]
  },
  {
   "cell_type": "code",
   "execution_count": null,
   "metadata": {},
   "outputs": [],
   "source": [
    "record = wfdb.rdrecord('/kaggle/input/bidmc-congestive-heart-failure/files/chf01', sampfrom=100, sampto=2100)\n",
    "ann = wfdb.rdann('/kaggle/input/bidmc-congestive-heart-failure/files/chf01', 'ecg', sampfrom=100, sampto=2100)\n",
    "wfdb.plot_wfdb(record, ann)\n",
    "display(record.__dict__)"
   ]
  },
  {
   "cell_type": "code",
   "execution_count": null,
   "metadata": {},
   "outputs": [],
   "source": []
  },
  {
   "cell_type": "code",
   "execution_count": null,
   "metadata": {},
   "outputs": [],
   "source": [
    "plt.plot(record.p_signal)\n",
    "print(\"Signal length: \" + str(len(record.p_signal)))"
   ]
  },
  {
   "cell_type": "code",
   "execution_count": null,
   "metadata": {},
   "outputs": [],
   "source": [
    "fs = 128\n",
    "new_sig, new_ann = wfdb.processing.resample_multichan(record.p_signal, ann, record.fs, fs_target = fs)\n",
    "record.fs = fs # Update record's fs\n",
    "print(\"New frequency sample: \" + str(record.fs))\n",
    "plt.plot(new_sig)\n",
    "print(\"New signal length: \" + str(len(new_sig)))"
   ]
  },
  {
   "cell_type": "code",
   "execution_count": null,
   "metadata": {},
   "outputs": [],
   "source": [
    "avg = new_sig.mean() # Count Mean once\n",
    "sd = new_sig.std() # Count SD once\n",
    "print(\"The average is \" + str(avg) + \"and the std is \" + str(sd))\n",
    "new_sig = (new_sig - avg)/(sd)\n",
    "plt.plot(new_sig);"
   ]
  },
  {
   "cell_type": "code",
   "execution_count": null,
   "metadata": {},
   "outputs": [],
   "source": [
    "# Update with pre-processed signal\n",
    "record.p_signal = new_sig\n",
    "record.sig_len = len(new_sig)\n",
    "wfdb.plot_wfdb(record, new_ann)\n",
    "display(record.__dict__)"
   ]
  },
  {
   "cell_type": "code",
   "execution_count": null,
   "metadata": {},
   "outputs": [],
   "source": [
    "peak_indices = wfdb.processing.gqrs_detect(record.p_signal, record.fs)\n",
    "# wfdb.processing.compute_hr(record.sig_len, peak_indices, record.fs)\n",
    "print(len(peak_indices))\n",
    "print(peak_indices)\n",
    "print(peak_indices[0], peak_indices[1])\n",
    "plt.plot(record.p_signal);\n",
    "plt.plot(record.p_signal[(peak_indices[0]):(peak_indices[1])]);"
   ]
  },
  {
   "cell_type": "code",
   "execution_count": null,
   "metadata": {},
   "outputs": [],
   "source": [
    "wfdb.io.show_ann_labels()\n",
    "wfdb.io.show_ann_classes()"
   ]
  }
 ],
 "metadata": {
  "kernelspec": {
   "display_name": "venv",
   "language": "python",
   "name": "python3"
  },
  "language_info": {
   "name": "python",
   "version": "3.10.0"
  }
 },
 "nbformat": 4,
 "nbformat_minor": 2
}
